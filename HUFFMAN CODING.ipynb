{
 "cells": [
  {
   "cell_type": "code",
   "execution_count": 4,
   "id": "9471883d",
   "metadata": {},
   "outputs": [],
   "source": [
    "# Get the input String\n",
    "input_string =\"GURUMURTHY\""
   ]
  },
  {
   "cell_type": "code",
   "execution_count": 5,
   "id": "915ab35f",
   "metadata": {},
   "outputs": [],
   "source": [
    "# Step 2: Calculate frequency of each character in the input string\n",
    "frequency = {}\n",
    "for char in input_string:\n",
    "    if char in frequency:\n",
    "        frequency[char] += 1\n",
    "    else:\n",
    "        frequency[char] = 1"
   ]
  },
  {
   "cell_type": "code",
   "execution_count": 6,
   "id": "1c04c857",
   "metadata": {},
   "outputs": [],
   "source": [
    "# Step 3: Create tree nodes\n",
    "nodes = [[char, freq] for char, freq in frequency.items()]"
   ]
  },
  {
   "cell_type": "code",
   "execution_count": 7,
   "id": "a74eefa0",
   "metadata": {},
   "outputs": [],
   "source": [
    "# Step 4: Main function to implement Huffman coding\n",
    "while len(nodes) > 1:\n",
    "    # Sort nodes based on frequency\n",
    "    nodes = sorted(nodes, key=lambda x: x[1])\n",
    "\n",
    "    # Pick two smallest nodes\n",
    "    left = nodes.pop(0)\n",
    "    right = nodes.pop(0)\n",
    "\n",
    "    # Create a new node with combined frequency\n",
    "    new_node = [[left, right], left[1] + right[1]]\n",
    "    nodes.append(new_node)\n",
    "\n",
    "# The final node is the Huffman tree\n",
    "huffman_tree = nodes[0]"
   ]
  },
  {
   "cell_type": "code",
   "execution_count": 8,
   "id": "8498c31c",
   "metadata": {},
   "outputs": [],
   "source": [
    "# Step 5: Generate Huffman codes\n",
    "huffman_codes = {}\n",
    "\n",
    "def generate_codes(tree, code=\"\"):\n",
    "    if isinstance(tree[0], str):  # If it's a leaf node\n",
    "        huffman_codes[tree[0]] = code\n",
    "    else:  # If it's an internal node, recurse\n",
    "        generate_codes(tree[0][0], code + \"0\")\n",
    "        generate_codes(tree[0][1], code + \"1\")\n",
    "\n",
    "generate_codes(huffman_tree)"
   ]
  },
  {
   "cell_type": "code",
   "execution_count": 9,
   "id": "2a3f3805-7ab5-4bae-9d1c-bc0e74a37eb3",
   "metadata": {},
   "outputs": [
    {
     "name": "stdout",
     "output_type": "stream",
     "text": [
      "Character | Huffman Code\n",
      "-------------------------\n",
      "    G    |    000\n",
      "    M    |    001\n",
      "    T    |    010\n",
      "    H    |    011\n",
      "    U    |    10\n",
      "    Y    |    110\n",
      "    R    |    111\n"
     ]
    }
   ],
   "source": [
    "# Step 6: Print the characters and their Huffman codes\n",
    "print(\"Character | Huffman Code\")\n",
    "print(\"-------------------------\")\n",
    "for char, code in huffman_codes.items():\n",
    "    print(f\"    {char}    |    {code}\")"
   ]
  },
  {
   "cell_type": "code",
   "execution_count": null,
   "id": "ea277c4f-9a39-438d-b4a2-1f0c83ec64a8",
   "metadata": {},
   "outputs": [],
   "source": []
  }
 ],
 "metadata": {
  "kernelspec": {
   "display_name": "Python 3 (ipykernel)",
   "language": "python",
   "name": "python3"
  },
  "language_info": {
   "codemirror_mode": {
    "name": "ipython",
    "version": 3
   },
   "file_extension": ".py",
   "mimetype": "text/x-python",
   "name": "python",
   "nbconvert_exporter": "python",
   "pygments_lexer": "ipython3",
   "version": "3.12.9"
  }
 },
 "nbformat": 4,
 "nbformat_minor": 5
}
